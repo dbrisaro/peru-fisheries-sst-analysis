{
 "cells": [
  {
   "cell_type": "code",
   "execution_count": null,
   "metadata": {},
   "outputs": [
    {
     "name": "stdout",
     "output_type": "stream",
     "text": [
      "Found 8075 files to merge\n"
     ]
    },
    {
     "name": "stderr",
     "output_type": "stream",
     "text": [
      "/Users/daniela/Documents/suyana/peru_produccion/code/merge_modis.py:84: SerializationWarning: saving variable palette with floating point data as an integer dtype without any _FillValue to use for NaNs\n",
      "  merged_ds.to_netcdf(merged_file)\n",
      "/Users/daniela/Documents/suyana/peru_produccion/.venv/lib/python3.9/site-packages/xarray/coding/variables.py:666: RuntimeWarning: invalid value encountered in cast\n",
      "  data = data.astype(dtype=dtype)\n"
     ]
    },
    {
     "name": "stdout",
     "output_type": "stream",
     "text": [
      "Merge completed. File saved as: ../data/MODIS/processed/sst_merged_daily_complete_prueba.nc\n",
      "Found 8218 files to merge\n"
     ]
    },
    {
     "name": "stderr",
     "output_type": "stream",
     "text": [
      "/Users/daniela/Documents/suyana/peru_produccion/code/merge_modis.py:84: SerializationWarning: saving variable palette with floating point data as an integer dtype without any _FillValue to use for NaNs\n",
      "  merged_ds.to_netcdf(merged_file)\n",
      "/Users/daniela/Documents/suyana/peru_produccion/.venv/lib/python3.9/site-packages/xarray/coding/variables.py:666: RuntimeWarning: invalid value encountered in cast\n",
      "  data = data.astype(dtype=dtype)\n"
     ]
    },
    {
     "name": "stdout",
     "output_type": "stream",
     "text": [
      "Merge completed. File saved as: ../data/MODIS_chl/processed/chl_merged_daily_complete_prueba.nc\n"
     ]
    }
   ],
   "source": [
    "import merge_modis\n",
    "\n",
    "# usage for SST files:\n",
    "input_dir = \"../data/MODIS/raw\"\n",
    "output_dir = \"../data/MODIS/processed\"\n",
    "merged_file = merge_modis.merge_modis_files(\n",
    "    input_dir=input_dir,\n",
    "    output_dir=output_dir,\n",
    "    pattern=\"AQUA_MODIS.*.L3m.DAY.SST*.nc\",\n",
    "    output_filename=\"sst_merged_daily_complete.nc\"\n",
    ")\n",
    "anom_daily, anom_monthly = merge_modis.compute_anomalies(\n",
    "    output_dir=output_dir,\n",
    "    var_name=\"sst\"\n",
    ")\n",
    "\n",
    "# usage for CHL files:\n",
    "input_dir = \"../data/MODIS_chl/raw\"\n",
    "output_dir = \"../data/MODIS_chl/processed\"\n",
    "merged_file = merge_modis.merge_modis_files(\n",
    "    input_dir=input_dir,\n",
    "    output_dir=output_dir,\n",
    "    pattern=\"AQUA_MODIS.*.L3m.DAY.CHL*.nc\",\n",
    "    output_filename=\"chl_merged_daily_complete.nc\"\n",
    ") \n",
    "anom_daily, anom_monthly = merge_modis.compute_anomalies(\n",
    "    output_dir=output_dir,\n",
    "    var_name=\"chlor_a\"\n",
    ")\n"
   ]
  }
 ],
 "metadata": {
  "kernelspec": {
   "display_name": ".venv",
   "language": "python",
   "name": "python3"
  },
  "language_info": {
   "codemirror_mode": {
    "name": "ipython",
    "version": 3
   },
   "file_extension": ".py",
   "mimetype": "text/x-python",
   "name": "python",
   "nbconvert_exporter": "python",
   "pygments_lexer": "ipython3",
   "version": "3.9.6"
  }
 },
 "nbformat": 4,
 "nbformat_minor": 2
}
