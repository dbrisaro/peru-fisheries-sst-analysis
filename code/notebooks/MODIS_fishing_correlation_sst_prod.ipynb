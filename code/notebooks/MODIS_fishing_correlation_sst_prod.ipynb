{
 "cells": [
  {
   "cell_type": "code",
   "execution_count": 23,
   "metadata": {},
   "outputs": [],
   "source": [
    "## IMPORTS\n",
    "\n",
    "import numpy as np\n",
    "import pandas as pd\n",
    "import xarray as xr\n",
    "\n",
    "import warnings\n",
    "warnings.filterwarnings('ignore')"
   ]
  },
  {
   "cell_type": "code",
   "execution_count": 24,
   "metadata": {},
   "outputs": [],
   "source": [
    "ds_anom = xr.open_dataset('../data/MODIS/processed/sst_anomaly_daily_2002_2025.nc')\n",
    "ds_anom['lon'] = ((ds_anom['lon'] + 180) % 360) - 180\n",
    "df_prod = pd.read_csv('../data/imarpe/processed/df_tons_by_group.csv').rename({'date': 'time'}, axis=1)\n",
    "df_prod['time'] = pd.to_datetime(df_prod['time'])\n",
    "# ds_prod = df_prod.set_index('time').to_xarray()\n",
    "# ds_prod = ds_prod.broadcast_like(ds_anom)\n",
    "columns_to_correlate = df_prod.columns.drop(['time', 'season', 'Group 5', 'Group 6'])\n"
   ]
  },
  {
   "cell_type": "code",
   "execution_count": 25,
   "metadata": {},
   "outputs": [],
   "source": [
    "# Convert landings to xarray\n",
    "landing_ds = xr.Dataset({\n",
    "    col: xr.DataArray(df_prod[col].values, coords={'time': df_prod['time']}, dims='time')\n",
    "    for col in columns_to_correlate\n",
    "})\n",
    "common_times = np.intersect1d(landing_ds.time.values, ds_anom.time.values)\n",
    "landing_ds = landing_ds.sel(time=common_times)\n",
    "ds_anom = ds_anom.sel(time=common_times)"
   ]
  },
  {
   "cell_type": "code",
   "execution_count": 26,
   "metadata": {},
   "outputs": [],
   "source": [
    "upwelling_mask_pesca_invierno_da = xr.open_dataset(\"../data/ocean_data_sst/processed/upwelling_mask_pesca_invierno.nc\")\n",
    "upwelling_mask_pesca_verano_da = xr.open_dataset(\"../data/ocean_data_sst/processed/upwelling_mask_pesca_verano.nc\")\n",
    "upwelling_mask_pesca_invierno_da['lon'] = ((upwelling_mask_pesca_invierno_da['lon'] + 180) % 360) - 180\n",
    "upwelling_mask_pesca_verano_da['lon'] = ((upwelling_mask_pesca_verano_da['lon'] + 180) % 360) - 180\n"
   ]
  },
  {
   "cell_type": "code",
   "execution_count": 27,
   "metadata": {},
   "outputs": [],
   "source": [
    "mask_interp = upwelling_mask_pesca_invierno_da.interp(lon=ds_anom['lon'], lat=ds_anom['lat'], method='nearest')\n",
    "ds_masked = ds_anom.where(mask_interp['upwelling_mask_pesca_invierno'].notnull())\n"
   ]
  },
  {
   "cell_type": "code",
   "execution_count": null,
   "metadata": {},
   "outputs": [],
   "source": [
    "# 1. Correlation between original variables\n",
    "sst_correlations = {var: xr.corr(ds_masked['sst'], landing_ds[var], dim='time') for var in columns_to_correlate}\n",
    "\n",
    "sst_corr_ds = xr.Dataset(sst_correlations)\n",
    "\n"
   ]
  },
  {
   "cell_type": "code",
   "execution_count": 29,
   "metadata": {},
   "outputs": [],
   "source": [
    "sst_corr_ds.to_netcdf('../data/outputs/correlation_sst_desembarques_trial.nc')"
   ]
  },
  {
   "cell_type": "code",
   "execution_count": 21,
   "metadata": {},
   "outputs": [],
   "source": [
    "# Apply 5-day rolling mean to both datasets\n",
    "landing_ds_rolling = landing_ds.rolling(time=5, center=True).mean()\n",
    "ds_anom_rolling = ds_anom.rolling(time=5, center=True).mean()\n",
    "\n",
    "sst_correlations = {var: xr.corr(ds_anom_rolling['sst'], landing_ds_rolling[var], dim='time') \n",
    "                    for var in columns_to_correlate}\n",
    "\n",
    "sst_corr_ds = xr.Dataset(sst_correlations)\n",
    "\n",
    "sst_corr_ds.to_netcdf('../data/outputs/correlation_sst_desembarques_5day_rolling.nc')"
   ]
  },
  {
   "cell_type": "code",
   "execution_count": 22,
   "metadata": {},
   "outputs": [],
   "source": [
    "# Create month masks for the periods of interest\n",
    "months_mask_1 = landing_ds_rolling.time.dt.month.isin([4, 5, 6, 7])  # April to July\n",
    "months_mask_2 = landing_ds_rolling.time.dt.month.isin([11, 12, 1])   # November to January\n",
    "\n",
    "landing_ds_apr_jul = landing_ds_rolling.sel(time=months_mask_1)\n",
    "ds_anom_apr_jul = ds_anom_rolling.sel(time=months_mask_1)\n",
    "\n",
    "sst_correlations_apr_jul = {var: xr.corr(ds_anom_apr_jul['sst'], landing_ds_apr_jul[var], dim='time') \n",
    "                           for var in columns_to_correlate}\n",
    "\n",
    "landing_ds_nov_jan = landing_ds_rolling.sel(time=months_mask_2)\n",
    "ds_anom_nov_jan = ds_anom_rolling.sel(time=months_mask_2)\n",
    "\n",
    "sst_correlations_nov_jan = {var: xr.corr(ds_anom_nov_jan['sst'], landing_ds_nov_jan[var], dim='time') \n",
    "                           for var in columns_to_correlate}\n",
    "\n",
    "sst_corr_ds_apr_jul = xr.Dataset(sst_correlations_apr_jul)\n",
    "sst_corr_ds_nov_jan = xr.Dataset(sst_correlations_nov_jan)\n",
    "\n",
    "sst_corr_ds_apr_jul.to_netcdf('../data/outputs/correlation_sst_desembarques_5day_rolling_apr_jul.nc')\n",
    "sst_corr_ds_nov_jan.to_netcdf('../data/outputs/correlation_sst_desembarques_5day_rolling_nov_jan.nc')"
   ]
  },
  {
   "cell_type": "code",
   "execution_count": null,
   "metadata": {},
   "outputs": [],
   "source": []
  }
 ],
 "metadata": {
  "kernelspec": {
   "display_name": ".venv",
   "language": "python",
   "name": "python3"
  },
  "language_info": {
   "codemirror_mode": {
    "name": "ipython",
    "version": 3
   },
   "file_extension": ".py",
   "mimetype": "text/x-python",
   "name": "python",
   "nbconvert_exporter": "python",
   "pygments_lexer": "ipython3",
   "version": "3.9.6"
  }
 },
 "nbformat": 4,
 "nbformat_minor": 2
}
