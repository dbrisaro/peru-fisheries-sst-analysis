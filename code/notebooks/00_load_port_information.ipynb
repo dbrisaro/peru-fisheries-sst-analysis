{
 "cells": [
  {
   "cell_type": "code",
   "execution_count": 1,
   "metadata": {},
   "outputs": [
    {
     "name": "stdout",
     "output_type": "stream",
     "text": [
      "The file already exists. It was not overwritten.\n"
     ]
    }
   ],
   "source": [
    "# Libraries\n",
    "import xarray as xr\n",
    "import matplotlib.pyplot as plt\n",
    "import numpy as np\n",
    "import pandas as pd\n",
    "import os\n",
    "\n",
    "# Load ports\n",
    "capitanias_path = '../data/puertos/raw/'\n",
    "capitanias_filename = 'Capitanias Latitude Longitude_edited.csv'\n",
    "\n",
    "path_file = os.path.join(capitanias_path, capitanias_filename)\n",
    "\n",
    "cap_latlon = pd.read_csv(path_file) \n",
    "cap_pd = cap_latlon[['id_capitania', 'capitania', 'caleta', 'lat_decimal', 'lon_decimal']]\n",
    "cap_pd = cap_pd.rename(columns={'lat_decimal':'latitude', 'lon_decimal':'longitude'})\n",
    "cap_pd.loc[:, 'latitude'] = cap_pd['latitude']*-1\n",
    "cap_pd.loc[:, 'longitude'] = cap_pd['longitude']*-1\n",
    "cap_pd = cap_pd.drop_duplicates()\n",
    "\n",
    "cap_pd = cap_pd.rename(columns={'caleta':'port_name'})\n",
    "cap_pd['port_name'] = cap_pd['port_name'].str.replace('  ',' ')\n",
    "cap_pd['port_name'] = cap_pd['port_name'].str.strip()\n",
    "cap_pd = cap_pd[cap_pd['port_name'] != 'caleta']\n",
    "cap_pd['port_name'] = cap_pd['port_name'].str.replace('Desembarcadero pesquero artesanal','DPA')\n",
    "cap_pd['port_name'] = cap_pd['port_name'].str.replace('desembarcadero pesquero artesanal','DPA')\n",
    "cap_pd['port_name'] = cap_pd['port_name'].str.upper()\n",
    "cap_pd['port_name'] = cap_pd['port_name'].str.replace(' ','_')\n",
    "cap_pd['capitania'] = cap_pd['capitania'].str.upper()\n",
    "cap_pd['capitania'] = cap_pd['capitania'].str.replace('CAPITANIA DE ','')\n",
    "cap_pd['capitania'] = cap_pd['capitania'].str.replace(' ','_')\n",
    "\n",
    "df_ports = cap_pd.copy()\n",
    "\n",
    "xr_ports = xr.Dataset(\n",
    "    {\n",
    "        'latitude': ('port', df_ports['latitude'].values),\n",
    "        'longitude': ('port', df_ports['longitude'].values),\n",
    "        'capitania': ('port', df_ports['capitania'].values),\n",
    "        'id_capitania': ('port', df_ports['id_capitania'].values)\n",
    "    },\n",
    "    coords={\n",
    "        'port': df_ports['port_name'].values\n",
    "    }\n",
    ")\n",
    "\n",
    "ports_path = '../data/puertos/processed/'\n",
    "ports_filename = \"xr_ports.nc\"\n",
    "file_path = os.path.join(ports_path, ports_filename)\n",
    "\n",
    "if not os.path.exists(file_path):\n",
    "    xr_ports.to_netcdf(file_path)\n",
    "    print(\"File saved successfully.\")\n",
    "else:\n",
    "    print(\"The file already exists. It was not overwritten.\")\n",
    "\n",
    "    "
   ]
  }
 ],
 "metadata": {
  "kernelspec": {
   "display_name": ".venv",
   "language": "python",
   "name": "python3"
  },
  "language_info": {
   "codemirror_mode": {
    "name": "ipython",
    "version": 3
   },
   "file_extension": ".py",
   "mimetype": "text/x-python",
   "name": "python",
   "nbconvert_exporter": "python",
   "pygments_lexer": "ipython3",
   "version": "3.9.6"
  }
 },
 "nbformat": 4,
 "nbformat_minor": 2
}
