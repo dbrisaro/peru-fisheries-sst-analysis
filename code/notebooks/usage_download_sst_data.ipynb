{
 "cells": [
  {
   "cell_type": "code",
   "execution_count": null,
   "metadata": {},
   "outputs": [],
   "source": [
    "import download_oisst\n",
    "\n",
    "# Example usage:\n",
    "# Peru coastal region\n",
    "output_files = download_oisst.download_and_process_oisst(\n",
    "    start_year=2024, \n",
    "    end_year=2025,\n",
    "    lat_north=-3.01, \n",
    "    lat_south=-19.51, \n",
    "    lon_west=-84.62, \n",
    "    lon_east=-67.62,\n",
    "    output_dir=\"../data/ocean_data_sst/raw\"\n",
    ") "
   ]
  }
 ],
 "metadata": {
  "kernelspec": {
   "display_name": ".venv",
   "language": "python",
   "name": "python3"
  },
  "language_info": {
   "codemirror_mode": {
    "name": "ipython",
    "version": 3
   },
   "file_extension": ".py",
   "mimetype": "text/x-python",
   "name": "python",
   "nbconvert_exporter": "python",
   "pygments_lexer": "ipython3",
   "version": "3.9.6"
  }
 },
 "nbformat": 4,
 "nbformat_minor": 2
}
